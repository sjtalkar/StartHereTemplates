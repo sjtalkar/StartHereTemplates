{
 "cells": [
  {
   "cell_type": "markdown",
   "metadata": {},
   "source": [
    "# Commands to install, uninstall and configure and links"
   ]
  },
  {
   "cell_type": "markdown",
   "metadata": {},
   "source": [
    "<div class=\"alert alert-block alert-info\">\n",
    "<a href='https://www.youtube.com/watch?v=09NhhScYNoQ'>Auto complete in Jupyter setup</a> \n",
    "</div>"
   ]
  },
  {
   "cell_type": "markdown",
   "metadata": {},
   "source": [
    "### Setting up a Python environment and using it in Jupyter\n",
    "\n",
    "\n",
    "I have encountered issues when upgarding a software and the version installed does not work well with the other libraries and packages. To keep all working versions in one spot and mmaintain it environemnts are created for each project with the established packages.\n",
    "\n",
    "\n",
    "\n",
    "[Commands for setting up virtual environment](https://packaging.python.org/guides/installing-using-pip-and-virtual-environments/)\n",
    "\n",
    "\n",
    "\n",
    "[Website for setting and selecting an environment to run Jupyter Notebook in ](https://medium.com/@eleroy/jupyter-notebook-in-a-virtual-environment-virtualenv-8f3c3448247)\n",
    "\n",
    "\n",
    "\n",
    "\n",
    "#### To set up Jupyter in the new environment\n",
    "`pip install ipykernel</p>`\n",
    "\n",
    "`ipython kernel install --user --name=py_env_first`\n",
    "\n",
    "\n",
    "<p> Activate it using the activate.bat file located in the environment directory's Script folder </p>\n",
    "py_env_first\\Scripts\\activate\n",
    "\n",
    "<p> Run the below to check which Python will be used. The command prompt is modified to show the environment in parenthesis</p>\n",
    "\n",
    "`where python`\n",
    "\n",
    "<p> Run Jupyter notebook from the directory containing your project</p>\n",
    "\n",
    "\n",
    "\n",
    "#### Installing an older(different)  version or specific version of matplotlib in the environment is now possible\n",
    "pip install matplotlib==3.1.0\n",
    "\n",
    "#### Uninstalling Jupyter since pip-autoremove does not clean it up\n",
    "\n",
    "`pip list`\n",
    "\n",
    "The above will give you all the Jupyter related packages use those in the command below\n",
    "\n",
    "    `pip uninstall -y jupyter jupyter_core jupyter-client jupyter-console notebook qtconsole nbconvert nbformat`\n",
    "\n",
    "` pip install jupyter `\n",
    "\n",
    "Run jupyter from the folder where you want to store programs from\n",
    "\n",
    "\n",
    "\n",
    "\n",
    "## Interactivity and common issues\n",
    "* Check if #mtplot notebook (and not inline) is the first statement in the notebook\n",
    "* CHeck the mtplotlib version - (with 3.3 I have trouble and so I installed 3.2 with pip install matplotlib==3.2.0)\n"
   ]
  },
  {
   "cell_type": "markdown",
   "metadata": {},
   "source": [
    "#### Saving Python packages prior to update\n",
    "\n",
    "`$ env1/bin/pip3 freeze > requirements.txt\n",
    "$ env2/bin/pip3 install -r requirements.txt\n",
    "`"
   ]
  },
  {
   "cell_type": "markdown",
   "metadata": {},
   "source": [
    "#### Setting display options\n",
    "\n",
    "pd.options.display.max_rows = 999"
   ]
  },
  {
   "cell_type": "code",
   "execution_count": 4,
   "metadata": {},
   "outputs": [],
   "source": [
    "import pandas as pd\n",
    "\n",
    "pd.set_option?"
   ]
  },
  {
   "cell_type": "code",
   "execution_count": 6,
   "metadata": {},
   "outputs": [
    {
     "name": "stdout",
     "output_type": "stream",
     "text": [
      "display.max_colwidth : int or None\n",
      "    The maximum width in characters of a column in the repr of\n",
      "    a pandas data structure. When the column overflows, a \"...\"\n",
      "    placeholder is embedded in the output. A 'None' value means unlimited.\n",
      "    [default: 50] [currently: 50]\n"
     ]
    }
   ],
   "source": [
    "pd.describe_option('max_colwidth')"
   ]
  },
  {
   "cell_type": "code",
   "execution_count": 10,
   "metadata": {},
   "outputs": [],
   "source": [
    "pd.set_option('max_colwidth', 200)"
   ]
  },
  {
   "cell_type": "markdown",
   "metadata": {},
   "source": [
    "* When you run jupter notebook from the commad line, the directory displayed is the command prompt directory"
   ]
  },
  {
   "cell_type": "code",
   "execution_count": null,
   "metadata": {},
   "outputs": [],
   "source": []
  }
 ],
 "metadata": {
  "kernelspec": {
   "display_name": "Python 3",
   "language": "python",
   "name": "python3"
  },
  "language_info": {
   "codemirror_mode": {
    "name": "ipython",
    "version": 3
   },
   "file_extension": ".py",
   "mimetype": "text/x-python",
   "name": "python",
   "nbconvert_exporter": "python",
   "pygments_lexer": "ipython3",
   "version": "3.7.7"
  }
 },
 "nbformat": 4,
 "nbformat_minor": 4
}
