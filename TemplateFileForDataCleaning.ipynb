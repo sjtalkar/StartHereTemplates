{
 "cells": [
  {
   "cell_type": "markdown",
   "metadata": {},
   "source": [
    "### Typical Imports"
   ]
  },
  {
   "cell_type": "code",
   "execution_count": null,
   "metadata": {},
   "outputs": [],
   "source": [
    "#The basics\n",
    "import pandas_profiling\n",
    "import pandas as pd \n",
    "import numpy as np\n",
    "import random\n",
    "\n",
    "\n",
    "\n",
    "#FOr Stats\n",
    "from scipy import stats ss\n",
    "\n",
    "\n",
    "\n",
    "#For visualizations\n",
    "%matplotlib notebook\n",
    "import matplotlib.pyplot as plt\n",
    "import matplotlib.animation as animation\n",
    "\n",
    "#For Color map\n",
    "import matplotlib.cm as cm\n",
    "\n",
    "\n",
    "\n",
    "#For widgets using interact\n",
    "from ipywidgets import interact, interactive, interact_manual, fixed\n",
    "import ipywidgets as widgets\n"
   ]
  },
  {
   "cell_type": "markdown",
   "metadata": {},
   "source": [
    "##### Event handling\n",
    "* Create a callback function \n",
    "\n",
    "<div class=\"alert alert-block alert-info\">\n",
    "def onclick_response(event):\n",
    "   <p>     plt.title('Event handling at pixel {},  {}  and data {}, {} '.format(event.x, event.y, \n",
    "                <p>np.round(event.xdata, 2), np.round(event.ydata, 2)), fontsize='small')<\\p>\n",
    "    <p>    return\n",
    "</div>\n",
    "\n",
    "\n",
    "* Link it to the figure\n",
    "\n",
    "<div class=\"alert alert-block alert-info\">\n",
    "fig.canvas.mpl_connect('button_press_event',onclick_response)\n",
    "</div>\n",
    "\n"
   ]
  },
  {
   "cell_type": "markdown",
   "metadata": {},
   "source": [
    "\n",
    "<div class=\"alert alert-block alert-info\">\n",
    "\n",
    "Use decorator interact with appropriate argument for widget type (lists for drop downs, vboolean for  checkboxes )\n",
    "\n",
    "<p>@interact(x=\"42000\")\n",
    "<p>def compareUserThreshold(user_threshold=\"42000\"):\n",
    "    \n",
    "</div>    "
   ]
  },
  {
   "cell_type": "markdown",
   "metadata": {},
   "source": [
    "#### Linking a dataframe to a dictionary through a map"
   ]
  },
  {
   "cell_type": "code",
   "execution_count": null,
   "metadata": {},
   "outputs": [],
   "source": [
    "# Example:\n",
    "zillow_allhomes_df  = pd.read_csv(r'City_Zhvi_AllHomes.csv')\n",
    "zillow_allhomes_df.head()\n",
    "\n",
    "zillow_allhomes_df.loc[:, 'State'] = zillow_allhomes_df.loc[:, 'State'].map(states)\n",
    "# Use this dictionary to map state names to two letter acronyms\n",
    "states = {'OH': 'Ohio', 'KY': 'Kentucky', 'AS': 'American Samoa', 'NV': 'Nevada', 'WY': 'Wyoming', 'NA': 'National', 'AL': 'Alabama', 'MD': 'Maryland', 'AK': 'Alaska', 'UT': 'Utah', 'OR': 'Oregon', 'MT': 'Montana', 'IL': 'Illinois', 'TN': 'Tennessee', 'DC': 'District of Columbia', 'VT': 'Vermont', 'ID': 'Idaho', 'AR': 'Arkansas', 'ME': 'Maine', 'WA': 'Washington', 'HI': 'Hawaii', 'WI': 'Wisconsin', 'MI': 'Michigan', 'IN': 'Indiana', 'NJ': 'New Jersey', 'AZ': 'Arizona', 'GU': 'Guam', 'MS': 'Mississippi', 'PR': 'Puerto Rico', 'NC': 'North Carolina', 'TX': 'Texas', 'SD': 'South Dakota', 'MP': 'Northern Mariana Islands', 'IA': 'Iowa', 'MO': 'Missouri', 'CT': 'Connecticut', 'WV': 'West Virginia', 'SC': 'South Carolina', 'LA': 'Louisiana', 'KS': 'Kansas', 'NY': 'New York', 'NE': 'Nebraska', 'OK': 'Oklahoma', 'FL': 'Florida', 'CA': 'California', 'CO': 'Colorado'\n",
    "         }"
   ]
  },
  {
   "cell_type": "markdown",
   "metadata": {},
   "source": [
    "#### Groupby and Pivots"
   ]
  },
  {
   "cell_type": "markdown",
   "metadata": {},
   "source": [
    "<div class=\"alert alert-block alert-info\">\n",
    "\n",
    "\n",
    "    \n",
    "<p>Techniques for Working with Pivots¶\n",
    "<p>Add a new column so that that counts can be displayed based on its unique values (This is for two column dfs)\n",
    "<p>Pivot the table with index, columns and counts as values\n",
    "<p>Flatten the multilevel column index    \n",
    "    \n",
    "</div>    "
   ]
  },
  {
   "cell_type": "markdown",
   "metadata": {},
   "source": [
    "#####  Group by \n",
    "<code style=\"background:grey;color:black\">\n",
    "dropMean_df = df.groupby('Team').agg({'Drops':'mean'})\n",
    "</code>"
   ]
  },
  {
   "cell_type": "markdown",
   "metadata": {},
   "source": [
    "##### Create the pivot and merge multilevel index\n",
    "\n",
    "<code style=\"background:grey;color:black\">\n",
    "outcome_df = df.pivot_table(values=['Result'], index=['Group'], columns= ['Outcome'], aggfunc=['count'])\n",
    "#Combine the multilevel column name into one    \n",
    "outcome_df.columns = ['_'.join(col).strip() for col in outcome_df.columns.values]\n",
    "</code>"
   ]
  },
  {
   "cell_type": "markdown",
   "metadata": {},
   "source": [
    "#### Adding a new row at bottom of pivit dataframe\n",
    "<code style=\"background:grey;color:black\">\n",
    "new_row = {'Group' :'Observed_Difference' , 'count_Result_Failure' : FailureDiff, 'count_Result_Success': SuccessDiff, 'Total Count' : TotalDiff, 'avg_Success' : AvgDiff}\n",
    "outcome_df = outcome_df.append(new_row, ignore_index=True)\n",
    "</code>"
   ]
  },
  {
   "cell_type": "markdown",
   "metadata": {},
   "source": [
    "##### Conditionals"
   ]
  },
  {
   "cell_type": "code",
   "execution_count": null,
   "metadata": {},
   "outputs": [],
   "source": [
    "# Create a new column called based on the value of another column\n",
    "df[\"Outcome\"] = np.where(df['Result'] == 0, 'Failure', 'Success')\n"
   ]
  },
  {
   "cell_type": "markdown",
   "metadata": {},
   "source": [
    "#### Rowwise/along row stats"
   ]
  },
  {
   "cell_type": "markdown",
   "metadata": {},
   "source": [
    "<code style=\"background:grey;color:black\">\n",
    "Send the row in to this function using apply\n",
    "</code>\n",
    "<code style=\"background:grey;color:black\">\n",
    "def row_stats(row):\n",
    "    data = row[['count_Result_Success','count_Result_Failure']]\n",
    "    return pd.Series({'Total Count': np.sum(data)})\n",
    "</code>\n",
    "<code style=\"background:grey;color:black\">\n",
    "apply the function to each row, note the axis\n",
    "outcome_df['Total Count'] = outcome_df.apply(row_stats, axis = 1)\n",
    "\n",
    "</code>    "
   ]
  },
  {
   "cell_type": "markdown",
   "metadata": {},
   "source": [
    "#### Entire dataframe stats - note the axis"
   ]
  },
  {
   "cell_type": "markdown",
   "metadata": {},
   "source": [
    "<code style=\"background:grey;color:black\">\n",
    "df.mean(axis = 1) # Along the columns\n",
    "</code>    "
   ]
  },
  {
   "cell_type": "markdown",
   "metadata": {},
   "source": [
    "##### Text file with hierachical data - states followed by cities cleaned to state-city columns\n",
    "\n",
    "<code style=\"background:grey;color:black\">\n",
    "  state_town_tuple_list = []\n",
    "    with open(r'university_towns.txt') as fref:\n",
    "        for line in fref:\n",
    "            lineWithoutSquare = line.split('[')[0].strip()\n",
    "            if ':' in lineWithoutSquare and not ('(')  in lineWithoutSquare :\n",
    "                continue\n",
    "            else:\n",
    "                if not ('(')  in lineWithoutSquare:\n",
    "                    state = lineWithoutSquare\n",
    "                else:\n",
    "                    univTown = lineWithoutSquare.split(' (')[0].strip().split(',')[0].strip()\n",
    "                    state_town_tuple_list.append((state, univTown) )\n",
    "</code>    \n",
    "<code style=\"background:grey;color:black\">               \n",
    "        state_univtown_df = pd.DataFrame(state_town_tuple_list, columns =['State', 'RegionName'])\n"
   ]
  },
  {
   "cell_type": "code",
   "execution_count": null,
   "metadata": {},
   "outputs": [],
   "source": []
  },
  {
   "cell_type": "markdown",
   "metadata": {},
   "source": [
    "#### Specify header, number of lines from bottom to ignore and drop columns and rows\n",
    "<div class=\"alert alert-block alert-info\">\n",
    "read_excel(io, sheet_name=0, header=0, names=None, index_col=None, usecols=None, squeeze=False, dtype=None, engine=None, converters=None, true_values=None, false_values=None, skiprows=None, nrows=None, na_values=None, keep_default_na=True, verbose=False, parse_dates=False, date_parser=None, thousands=None, comment=None, skipfooter=0, convert_float=True, mangle_dupe_cols=True, **kwds)\n",
    "</div>\n",
    "<code style=\"background:grey;color:black\">\n",
    "GDP_qtr = pd.read_excel(r'gdplev.xls', skiprows= 5)\n",
    "GDP_qtr= GDP_qtr.dropna(axis=0,how='all').dropna(axis=1,how='all').iloc[:,3:]\n",
    "</code>    "
   ]
  },
  {
   "cell_type": "markdown",
   "metadata": {},
   "source": [
    "####  Iterating through a dataset\n",
    "<code style=\"background:grey;color:black\">\n",
    "    for i, row in GDP_qtr.iterrows():\n",
    "</code>    "
   ]
  },
  {
   "cell_type": "markdown",
   "metadata": {},
   "source": [
    "#### Retrieving data of a column and not the series\n",
    "<code style=\"background:grey;color:black\">\n",
    " \n",
    "<p>\n",
    "test.loc[:0, 1992] \n",
    "0   -8941.531897\n",
    "Name: 1992, dtype: float64    \n",
    "    \n",
    "<p>    \n",
    "df['column'].item()\n",
    "-8941.531896942593    \n",
    "</code>\n"
   ]
  },
  {
   "cell_type": "code",
   "execution_count": null,
   "metadata": {},
   "outputs": [],
   "source": []
  },
  {
   "cell_type": "code",
   "execution_count": null,
   "metadata": {},
   "outputs": [],
   "source": []
  },
  {
   "cell_type": "code",
   "execution_count": null,
   "metadata": {},
   "outputs": [],
   "source": []
  },
  {
   "cell_type": "markdown",
   "metadata": {},
   "source": [
    "##  TIPS AND TRICKS"
   ]
  },
  {
   "cell_type": "markdown",
   "metadata": {},
   "source": [
    "<div class=\"alert alert-block alert-success\">\n",
    "\n",
    "* Pretty Print\n",
    "<p>\n",
    "import pprint\n",
    "<p>pprint (df)\n",
    "\n",
    "    \n",
    "    \n",
    "* Undo a delete\n",
    " * Contents :  CTRL + Z\n",
    " * Entire Cell :  ESC+Z     \n",
    "\n",
    "    \n",
    "* Esc + M to create a markdown\n",
    "    \n",
    "* Shift + Enter to run and create new cell below     \n",
    "    \n",
    "</div>\n",
    "\n",
    "\n"
   ]
  },
  {
   "cell_type": "markdown",
   "metadata": {},
   "source": []
  }
 ],
 "metadata": {
  "kernelspec": {
   "display_name": "Python 3",
   "language": "python",
   "name": "python3"
  },
  "language_info": {
   "codemirror_mode": {
    "name": "ipython",
    "version": 3
   },
   "file_extension": ".py",
   "mimetype": "text/x-python",
   "name": "python",
   "nbconvert_exporter": "python",
   "pygments_lexer": "ipython3",
   "version": "3.7.7"
  }
 },
 "nbformat": 4,
 "nbformat_minor": 4
}
