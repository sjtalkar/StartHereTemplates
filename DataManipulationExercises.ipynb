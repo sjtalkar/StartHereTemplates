{
 "cells": [
  {
   "cell_type": "markdown",
   "metadata": {},
   "source": [
    "## Data Manipulation Exercises"
   ]
  },
  {
   "cell_type": "markdown",
   "metadata": {},
   "source": [
    "[Source for quizzes](https://www.machinelearningplus.com/python/101-pandas-exercises-python/)\n",
    "\n",
    "* 101 python pandas exercises are designed to challenge your logical muscle and to help internalize data manipulation with python’s favorite package for data analysis. The questions are of 3 levels of difficulties with L1 being the easiest to L3 being the hardest."
   ]
  },
  {
   "cell_type": "code",
   "execution_count": 2,
   "metadata": {},
   "outputs": [],
   "source": [
    "import pandas as pd\n",
    "import numpy as np"
   ]
  },
  {
   "cell_type": "markdown",
   "metadata": {},
   "source": [
    "<span style=\"color:purple;font-size:20px; font-weight:bold\">Question 1 <span>\n",
    "* In df, use apply method to replace the missing values in Min.Price with the column’s mean and those in Max.Price with the column’s median."
   ]
  },
  {
   "cell_type": "code",
   "execution_count": 4,
   "metadata": {},
   "outputs": [],
   "source": [
    "df = pd.read_csv('https://raw.githubusercontent.com/selva86/datasets/master/Cars93_miss.csv')"
   ]
  },
  {
   "cell_type": "code",
   "execution_count": 7,
   "metadata": {},
   "outputs": [
    {
     "name": "stdout",
     "output_type": "stream",
     "text": [
      "<class 'pandas.core.frame.DataFrame'>\n",
      "RangeIndex: 93 entries, 0 to 92\n",
      "Data columns (total 27 columns):\n",
      " #   Column              Non-Null Count  Dtype  \n",
      "---  ------              --------------  -----  \n",
      " 0   Manufacturer        89 non-null     object \n",
      " 1   Model               92 non-null     object \n",
      " 2   Type                90 non-null     object \n",
      " 3   Min.Price           86 non-null     float64\n",
      " 4   Price               91 non-null     float64\n",
      " 5   Max.Price           88 non-null     float64\n",
      " 6   MPG.city            84 non-null     float64\n",
      " 7   MPG.highway         91 non-null     float64\n",
      " 8   AirBags             87 non-null     object \n",
      " 9   DriveTrain          86 non-null     object \n",
      " 10  Cylinders           88 non-null     object \n",
      " 11  EngineSize          91 non-null     float64\n",
      " 12  Horsepower          86 non-null     float64\n",
      " 13  RPM                 90 non-null     float64\n",
      " 14  Rev.per.mile        87 non-null     float64\n",
      " 15  Man.trans.avail     88 non-null     object \n",
      " 16  Fuel.tank.capacity  85 non-null     float64\n",
      " 17  Passengers          91 non-null     float64\n",
      " 18  Length              89 non-null     float64\n",
      " 19  Wheelbase           92 non-null     float64\n",
      " 20  Width               87 non-null     float64\n",
      " 21  Turn.circle         88 non-null     float64\n",
      " 22  Rear.seat.room      89 non-null     float64\n",
      " 23  Luggage.room        74 non-null     float64\n",
      " 24  Weight              86 non-null     float64\n",
      " 25  Origin              88 non-null     object \n",
      " 26  Make                90 non-null     object \n",
      "dtypes: float64(18), object(9)\n",
      "memory usage: 19.7+ KB\n"
     ]
    }
   ],
   "source": [
    "df.info()"
   ]
  },
  {
   "cell_type": "code",
   "execution_count": 13,
   "metadata": {},
   "outputs": [
    {
     "name": "stdout",
     "output_type": "stream",
     "text": [
      "17.118604651162787\n",
      "21.45909090909091\n"
     ]
    }
   ],
   "source": [
    "print(df['Min.Price'].mean())\n",
    "print(df['Max.Price'].mean())\n"
   ]
  },
  {
   "cell_type": "code",
   "execution_count": 37,
   "metadata": {},
   "outputs": [],
   "source": [
    "#df[np.isnan(df['Min.Price'])] \n",
    "minMean  = df['Min.Price'].mean()\n",
    "maxMedian  = df['Max.Price'].median()\n",
    "\n",
    "df['Min.Price']= df['Min.Price'].apply(lambda x: minMean if np.isnan(x) else x)\n",
    "df['Max.Price']= df['Max.Price'].apply(lambda x: maxMedian if np.isnan(x) else x)\n"
   ]
  },
  {
   "cell_type": "code",
   "execution_count": 40,
   "metadata": {},
   "outputs": [
    {
     "name": "stdout",
     "output_type": "stream",
     "text": [
      "Empty DataFrame\n",
      "Columns: [Manufacturer, Model, Type, Min.Price, Price, Max.Price, MPG.city, MPG.highway, AirBags, DriveTrain, Cylinders, EngineSize, Horsepower, RPM, Rev.per.mile, Man.trans.avail, Fuel.tank.capacity, Passengers, Length, Wheelbase, Width, Turn.circle, Rear.seat.room, Luggage.room, Weight, Origin, Make]\n",
      "Index: []\n",
      "\n",
      "[0 rows x 27 columns]\n",
      "Empty DataFrame\n",
      "Columns: [Manufacturer, Model, Type, Min.Price, Price, Max.Price, MPG.city, MPG.highway, AirBags, DriveTrain, Cylinders, EngineSize, Horsepower, RPM, Rev.per.mile, Man.trans.avail, Fuel.tank.capacity, Passengers, Length, Wheelbase, Width, Turn.circle, Rear.seat.room, Luggage.room, Weight, Origin, Make]\n",
      "Index: []\n",
      "\n",
      "[0 rows x 27 columns]\n"
     ]
    }
   ],
   "source": [
    "print(df[np.isnan(df['Min.Price'])])\n",
    "print(df[np.isnan(df['Max.Price'])])"
   ]
  },
  {
   "cell_type": "markdown",
   "metadata": {},
   "source": [
    "<span style=\"color:purple;font-size:20px; font-weight:bold\">Question 2 <span>\n",
    "* In df, interchange columns 'a' and 'c'.\n",
    "    * Create a generic function to interchange two columns, without hardcoding column names.\n",
    "\n",
    "    * Sort the columns in reverse alphabetical order, that is colume 'e' first through column 'a' last."
   ]
  },
  {
   "cell_type": "code",
   "execution_count": 95,
   "metadata": {},
   "outputs": [
    {
     "name": "stdout",
     "output_type": "stream",
     "text": [
      "<class 'pandas.core.frame.DataFrame'>\n",
      "RangeIndex: 4 entries, 0 to 3\n",
      "Data columns (total 5 columns):\n",
      " #   Column  Non-Null Count  Dtype\n",
      "---  ------  --------------  -----\n",
      " 0   a       4 non-null      int32\n",
      " 1   b       4 non-null      int32\n",
      " 2   c       4 non-null      int32\n",
      " 3   d       4 non-null      int32\n",
      " 4   e       4 non-null      int32\n",
      "dtypes: int32(5)\n",
      "memory usage: 208.0 bytes\n"
     ]
    }
   ],
   "source": [
    "df = pd.DataFrame(np.arange(20).reshape(-1, 5), columns=list('abcde'))\n",
    "df.info()"
   ]
  },
  {
   "cell_type": "code",
   "execution_count": 96,
   "metadata": {},
   "outputs": [
    {
     "name": "stdout",
     "output_type": "stream",
     "text": [
      "    a   b   c   d   e\n",
      "0   0   1   2   3   4\n",
      "1   5   6   7   8   9\n",
      "2  10  11  12  13  14\n",
      "3  15  16  17  18  19\n",
      "    c   b   a   d   e\n",
      "0   2   1   0   3   4\n",
      "1   7   6   5   8   9\n",
      "2  12  11  10  13  14\n",
      "3  17  16  15  18  19\n"
     ]
    }
   ],
   "source": [
    "#Solution : Aim : to select column from original dataframe in certain order to create new dataframe\n",
    "                # The order is manipulated in a LIST (since Index of columns is immutable)\n",
    "\n",
    "print(df)\n",
    "def switch_column(df, m, n):\n",
    "    col_list = list(df.columns)\n",
    "    col_list[m], col_list[n] = col_list[n], col_list[m]\n",
    "    return df[col_list]\n",
    "\n",
    "df_new = switch_column(df, 0, 2)\n",
    "print(df_new)"
   ]
  },
  {
   "cell_type": "code",
   "execution_count": 106,
   "metadata": {},
   "outputs": [
    {
     "name": "stdout",
     "output_type": "stream",
     "text": [
      "    a   b   c   d   e\n",
      "0   0   1   2   3   4\n",
      "1   5   6   7   8   9\n",
      "2  10  11  12  13  14\n",
      "3  15  16  17  18  19\n",
      "    e   d   c   b   a\n",
      "0   4   3   2   1   0\n",
      "1   9   8   7   6   5\n",
      "2  14  13  12  11  10\n",
      "3  19  18  17  16  15\n"
     ]
    }
   ],
   "source": [
    "print(df)\n",
    "def reverse_column(df, m, n):\n",
    "    col_list = list(df.columns)\n",
    "    col_list.reverse()\n",
    "    return df[col_list]\n",
    "\n",
    "df_new = reverse_column(df, 0, 2)\n",
    "print(df_new)"
   ]
  },
  {
   "cell_type": "markdown",
   "metadata": {},
   "source": [
    "<span style=\"color:dark purple;font-size:20px; font-weight:bold\">Question 3 <span>\n",
    "\n",
    "* Reshape a dataframe to the largest possible square after removing the negative values\n",
    "    * Reshape df to the largest possible square with negative values removed. Drop the smallest values if need be. \n",
    "    * The order of the positive numbers in the result should remain the same as the original."
   ]
  },
  {
   "cell_type": "code",
   "execution_count": 110,
   "metadata": {},
   "outputs": [],
   "source": [
    "df = pd.DataFrame(np.random.randint(-20, 50, 100).reshape(10, -1))"
   ]
  },
  {
   "cell_type": "code",
   "execution_count": 118,
   "metadata": {},
   "outputs": [
    {
     "name": "stdout",
     "output_type": "stream",
     "text": [
      "Object `series.reshape` not found.\n"
     ]
    }
   ],
   "source": [
    "series.reshape?"
   ]
  },
  {
   "cell_type": "code",
   "execution_count": null,
   "metadata": {},
   "outputs": [],
   "source": [
    "np.random.randint(-20, 50, 100).reshape"
   ]
  },
  {
   "cell_type": "markdown",
   "metadata": {},
   "source": [
    "<span style=\"color:purple;font-size:20px; font-weight:bold\">Question 4 <span>\n",
    "\n",
    "* Add columns to the end of each row with the minimum and max of the row"
   ]
  },
  {
   "cell_type": "code",
   "execution_count": 128,
   "metadata": {},
   "outputs": [],
   "source": [
    "df = pd.DataFrame(np.random.randint(1,100, 80).reshape(8, -1))"
   ]
  },
  {
   "cell_type": "code",
   "execution_count": 129,
   "metadata": {},
   "outputs": [],
   "source": [
    "df['Min_In_Row'] = df.min(axis=1)\n",
    "df['Max_In_Row'] = df.max(axis=1)"
   ]
  },
  {
   "cell_type": "code",
   "execution_count": 130,
   "metadata": {},
   "outputs": [
    {
     "data": {
      "text/html": [
       "<div>\n",
       "<style scoped>\n",
       "    .dataframe tbody tr th:only-of-type {\n",
       "        vertical-align: middle;\n",
       "    }\n",
       "\n",
       "    .dataframe tbody tr th {\n",
       "        vertical-align: top;\n",
       "    }\n",
       "\n",
       "    .dataframe thead th {\n",
       "        text-align: right;\n",
       "    }\n",
       "</style>\n",
       "<table border=\"1\" class=\"dataframe\">\n",
       "  <thead>\n",
       "    <tr style=\"text-align: right;\">\n",
       "      <th></th>\n",
       "      <th>0</th>\n",
       "      <th>1</th>\n",
       "      <th>2</th>\n",
       "      <th>3</th>\n",
       "      <th>4</th>\n",
       "      <th>5</th>\n",
       "      <th>6</th>\n",
       "      <th>7</th>\n",
       "      <th>8</th>\n",
       "      <th>9</th>\n",
       "      <th>Min_In_Row</th>\n",
       "      <th>Max_In_Row</th>\n",
       "    </tr>\n",
       "  </thead>\n",
       "  <tbody>\n",
       "    <tr>\n",
       "      <th>0</th>\n",
       "      <td>34</td>\n",
       "      <td>90</td>\n",
       "      <td>73</td>\n",
       "      <td>59</td>\n",
       "      <td>21</td>\n",
       "      <td>9</td>\n",
       "      <td>79</td>\n",
       "      <td>21</td>\n",
       "      <td>88</td>\n",
       "      <td>97</td>\n",
       "      <td>9</td>\n",
       "      <td>97</td>\n",
       "    </tr>\n",
       "    <tr>\n",
       "      <th>1</th>\n",
       "      <td>51</td>\n",
       "      <td>8</td>\n",
       "      <td>90</td>\n",
       "      <td>66</td>\n",
       "      <td>83</td>\n",
       "      <td>12</td>\n",
       "      <td>12</td>\n",
       "      <td>52</td>\n",
       "      <td>82</td>\n",
       "      <td>22</td>\n",
       "      <td>8</td>\n",
       "      <td>90</td>\n",
       "    </tr>\n",
       "    <tr>\n",
       "      <th>2</th>\n",
       "      <td>31</td>\n",
       "      <td>86</td>\n",
       "      <td>33</td>\n",
       "      <td>72</td>\n",
       "      <td>91</td>\n",
       "      <td>7</td>\n",
       "      <td>56</td>\n",
       "      <td>57</td>\n",
       "      <td>41</td>\n",
       "      <td>7</td>\n",
       "      <td>7</td>\n",
       "      <td>91</td>\n",
       "    </tr>\n",
       "    <tr>\n",
       "      <th>3</th>\n",
       "      <td>27</td>\n",
       "      <td>24</td>\n",
       "      <td>56</td>\n",
       "      <td>2</td>\n",
       "      <td>6</td>\n",
       "      <td>74</td>\n",
       "      <td>99</td>\n",
       "      <td>4</td>\n",
       "      <td>31</td>\n",
       "      <td>18</td>\n",
       "      <td>2</td>\n",
       "      <td>99</td>\n",
       "    </tr>\n",
       "    <tr>\n",
       "      <th>4</th>\n",
       "      <td>27</td>\n",
       "      <td>98</td>\n",
       "      <td>70</td>\n",
       "      <td>43</td>\n",
       "      <td>71</td>\n",
       "      <td>57</td>\n",
       "      <td>10</td>\n",
       "      <td>87</td>\n",
       "      <td>68</td>\n",
       "      <td>48</td>\n",
       "      <td>10</td>\n",
       "      <td>98</td>\n",
       "    </tr>\n",
       "    <tr>\n",
       "      <th>5</th>\n",
       "      <td>6</td>\n",
       "      <td>78</td>\n",
       "      <td>97</td>\n",
       "      <td>19</td>\n",
       "      <td>76</td>\n",
       "      <td>91</td>\n",
       "      <td>77</td>\n",
       "      <td>5</td>\n",
       "      <td>54</td>\n",
       "      <td>75</td>\n",
       "      <td>5</td>\n",
       "      <td>97</td>\n",
       "    </tr>\n",
       "    <tr>\n",
       "      <th>6</th>\n",
       "      <td>33</td>\n",
       "      <td>6</td>\n",
       "      <td>12</td>\n",
       "      <td>63</td>\n",
       "      <td>78</td>\n",
       "      <td>9</td>\n",
       "      <td>41</td>\n",
       "      <td>72</td>\n",
       "      <td>96</td>\n",
       "      <td>14</td>\n",
       "      <td>6</td>\n",
       "      <td>96</td>\n",
       "    </tr>\n",
       "    <tr>\n",
       "      <th>7</th>\n",
       "      <td>2</td>\n",
       "      <td>41</td>\n",
       "      <td>99</td>\n",
       "      <td>34</td>\n",
       "      <td>27</td>\n",
       "      <td>20</td>\n",
       "      <td>75</td>\n",
       "      <td>60</td>\n",
       "      <td>90</td>\n",
       "      <td>97</td>\n",
       "      <td>2</td>\n",
       "      <td>99</td>\n",
       "    </tr>\n",
       "  </tbody>\n",
       "</table>\n",
       "</div>"
      ],
      "text/plain": [
       "    0   1   2   3   4   5   6   7   8   9  Min_In_Row  Max_In_Row\n",
       "0  34  90  73  59  21   9  79  21  88  97           9          97\n",
       "1  51   8  90  66  83  12  12  52  82  22           8          90\n",
       "2  31  86  33  72  91   7  56  57  41   7           7          91\n",
       "3  27  24  56   2   6  74  99   4  31  18           2          99\n",
       "4  27  98  70  43  71  57  10  87  68  48          10          98\n",
       "5   6  78  97  19  76  91  77   5  54  75           5          97\n",
       "6  33   6  12  63  78   9  41  72  96  14           6          96\n",
       "7   2  41  99  34  27  20  75  60  90  97           2          99"
      ]
     },
     "execution_count": 130,
     "metadata": {},
     "output_type": "execute_result"
    }
   ],
   "source": [
    "df"
   ]
  },
  {
   "cell_type": "markdown",
   "metadata": {},
   "source": [
    "<span style=\"color:purple;font-size:20px;font-weight:bold\">Question 5</span>\n",
    "* Extract details of a Group from a GroupBy Object "
   ]
  },
  {
   "cell_type": "code",
   "execution_count": 148,
   "metadata": {},
   "outputs": [],
   "source": [
    "df = pd.DataFrame({'col1': ['apple', 'banana', 'orange'] * 3,\n",
    "                   'col2': np.random.rand(9),\n",
    "                   'col3': np.random.randint(0, 15, 9)})\n",
    "\n",
    "df_grouped = df.groupby(['col1'])"
   ]
  },
  {
   "cell_type": "code",
   "execution_count": 150,
   "metadata": {},
   "outputs": [
    {
     "name": "stdout",
     "output_type": "stream",
     "text": [
      "Name of Group:  apple\n",
      "Group details: \n",
      "     col1      col2  col3\n",
      "0  apple  0.539424     1\n",
      "3  apple  0.975470    12\n",
      "6  apple  0.336752     3\n",
      "Name of Group:  banana\n",
      "Group details: \n",
      "      col1      col2  col3\n",
      "1  banana  0.979078     7\n",
      "4  banana  0.352528     5\n",
      "7  banana  0.035099     7\n",
      "Name of Group:  orange\n",
      "Group details: \n",
      "      col1      col2  col3\n",
      "2  orange  0.486602    10\n",
      "5  orange  0.933431     3\n",
      "8  orange  0.616938     3\n"
     ]
    }
   ],
   "source": [
    "for name, eachGroup in df_grouped:\n",
    "    print(\"Name of Group: \", name)\n",
    "    \n",
    "    print(\"Group details: \\n\", eachGroup )\n",
    "    "
   ]
  },
  {
   "cell_type": "markdown",
   "metadata": {},
   "source": [
    "<span style=\"color:purple;font-size:20px; font-weight:bold\">Question 6 <span>\n",
    "    \n",
    "*  Replace both the diagonals of dataframe with 0?\n",
    "    \n",
    "  <a href=\"https://numpy.org/doc/stable/reference/generated/numpy.fill_diagonal.html\" style=\"color:red;font-size:15px\">Details about matrix operations</a> \n"
   ]
  },
  {
   "cell_type": "code",
   "execution_count": 162,
   "metadata": {},
   "outputs": [],
   "source": [
    "df = pd.DataFrame(np.random.randint(1,100, 100).reshape(10, -1))"
   ]
  },
  {
   "cell_type": "code",
   "execution_count": 163,
   "metadata": {},
   "outputs": [
    {
     "name": "stdout",
     "output_type": "stream",
     "text": [
      "    0   1   2   3   4   5   6   7   8   9\n",
      "0  99  56  18  13  48  87  75  13  26  16\n",
      "1  57  36  35   2  72  26  51  34  54  52\n",
      "2  13  20  48  41  20  66  96  53  46  73\n",
      "3  92   8  48  11  64  77  66  93  34  35\n",
      "4  18  12  72  40  12  96  46  26  98   8\n",
      "5  84  63   2  61   6  54  51  19  68   3\n",
      "6  52  19  93  59  16  58  97  61  69  73\n",
      "7  68  20  50  57  38  63  80  25  33  57\n",
      "8  69  55  55   7  48  89  12  64  74  19\n",
      "9  71  26  32  44  60  43  57  62  35  43\n"
     ]
    }
   ],
   "source": [
    "print(df)"
   ]
  },
  {
   "cell_type": "code",
   "execution_count": 164,
   "metadata": {
    "scrolled": true
   },
   "outputs": [
    {
     "name": "stdout",
     "output_type": "stream",
     "text": [
      "    0   1   2   3   4   5   6   7   8   9\n",
      "0   0  56  18  13  48  87  75  13  26   0\n",
      "1  57   0  35   2  72  26  51  34   0  52\n",
      "2  13  20   0  41  20  66  96   0  46  73\n",
      "3  92   8  48   0  64  77   0  93  34  35\n",
      "4  18  12  72  40   0   0  46  26  98   8\n",
      "5  84  63   2  61   0   0  51  19  68   3\n",
      "6  52  19  93   0  16  58   0  61  69  73\n",
      "7  68  20   0  57  38  63  80   0  33  57\n",
      "8  69   0  55   7  48  89  12  64   0  19\n",
      "9   0  26  32  44  60  43  57  62  35   0\n",
      "[0, 0, 0, 0, 0, 0, 0, 0, 0, 0]\n"
     ]
    }
   ],
   "source": [
    "diag_list = [0] * 10\n",
    "\n",
    "#You cannot pass the dataframe itself to the function\n",
    "np.fill_diagonal(df.values, diag_list)  # Horizontal flip\n",
    "np.fill_diagonal(np.fliplr(df.values), diag_list)  # Horizontal flip\n",
    "\n",
    "# a = np.zeros((3, 3), int);\n",
    "# np.fill_diagonal(np.fliplr(a), [2,2,2])  # Horizontal flip\n",
    "print(df)\n",
    "print(diag_list)\n",
    "# np.fill_diagonal(np.flipud(a), [1,2,3])  # Vertical flip\n",
    "# a\n",
    "# array([[0, 0, 3],\n",
    "#        [0, 2, 0],\n",
    "#        [1, 0, 0]])"
   ]
  },
  {
   "cell_type": "markdown",
   "metadata": {},
   "source": [
    "<span style=\"color:purple;font-size:20px\">Question 7 <span>\n",
    "* Normalize all columns in a dataframe (without external packages like sklearn)\n",
    "        * Normalize all columns of df by subtracting the column mean and divide by standard deviation.\n",
    "        * Range all columns of df such that the minimum value in each column is 0 and max is 1.    \n",
    "    "
   ]
  },
  {
   "cell_type": "code",
   "execution_count": 195,
   "metadata": {},
   "outputs": [],
   "source": [
    "df = pd.DataFrame(np.random.randint(1,100, 80).reshape(8, -1))"
   ]
  },
  {
   "cell_type": "code",
   "execution_count": 196,
   "metadata": {},
   "outputs": [
    {
     "data": {
      "text/html": [
       "<div>\n",
       "<style scoped>\n",
       "    .dataframe tbody tr th:only-of-type {\n",
       "        vertical-align: middle;\n",
       "    }\n",
       "\n",
       "    .dataframe tbody tr th {\n",
       "        vertical-align: top;\n",
       "    }\n",
       "\n",
       "    .dataframe thead th {\n",
       "        text-align: right;\n",
       "    }\n",
       "</style>\n",
       "<table border=\"1\" class=\"dataframe\">\n",
       "  <thead>\n",
       "    <tr style=\"text-align: right;\">\n",
       "      <th></th>\n",
       "      <th>0</th>\n",
       "      <th>1</th>\n",
       "      <th>2</th>\n",
       "      <th>3</th>\n",
       "      <th>4</th>\n",
       "      <th>5</th>\n",
       "      <th>6</th>\n",
       "      <th>7</th>\n",
       "      <th>8</th>\n",
       "      <th>9</th>\n",
       "    </tr>\n",
       "  </thead>\n",
       "  <tbody>\n",
       "    <tr>\n",
       "      <th>0</th>\n",
       "      <td>29</td>\n",
       "      <td>24</td>\n",
       "      <td>81</td>\n",
       "      <td>11</td>\n",
       "      <td>5</td>\n",
       "      <td>15</td>\n",
       "      <td>1</td>\n",
       "      <td>37</td>\n",
       "      <td>59</td>\n",
       "      <td>76</td>\n",
       "    </tr>\n",
       "    <tr>\n",
       "      <th>1</th>\n",
       "      <td>61</td>\n",
       "      <td>56</td>\n",
       "      <td>43</td>\n",
       "      <td>6</td>\n",
       "      <td>40</td>\n",
       "      <td>31</td>\n",
       "      <td>31</td>\n",
       "      <td>59</td>\n",
       "      <td>18</td>\n",
       "      <td>18</td>\n",
       "    </tr>\n",
       "    <tr>\n",
       "      <th>2</th>\n",
       "      <td>96</td>\n",
       "      <td>49</td>\n",
       "      <td>21</td>\n",
       "      <td>65</td>\n",
       "      <td>38</td>\n",
       "      <td>13</td>\n",
       "      <td>84</td>\n",
       "      <td>15</td>\n",
       "      <td>58</td>\n",
       "      <td>48</td>\n",
       "    </tr>\n",
       "    <tr>\n",
       "      <th>3</th>\n",
       "      <td>40</td>\n",
       "      <td>45</td>\n",
       "      <td>43</td>\n",
       "      <td>48</td>\n",
       "      <td>3</td>\n",
       "      <td>68</td>\n",
       "      <td>62</td>\n",
       "      <td>64</td>\n",
       "      <td>43</td>\n",
       "      <td>2</td>\n",
       "    </tr>\n",
       "    <tr>\n",
       "      <th>4</th>\n",
       "      <td>48</td>\n",
       "      <td>59</td>\n",
       "      <td>84</td>\n",
       "      <td>52</td>\n",
       "      <td>75</td>\n",
       "      <td>39</td>\n",
       "      <td>6</td>\n",
       "      <td>66</td>\n",
       "      <td>84</td>\n",
       "      <td>82</td>\n",
       "    </tr>\n",
       "    <tr>\n",
       "      <th>5</th>\n",
       "      <td>36</td>\n",
       "      <td>51</td>\n",
       "      <td>82</td>\n",
       "      <td>91</td>\n",
       "      <td>51</td>\n",
       "      <td>58</td>\n",
       "      <td>24</td>\n",
       "      <td>74</td>\n",
       "      <td>81</td>\n",
       "      <td>45</td>\n",
       "    </tr>\n",
       "    <tr>\n",
       "      <th>6</th>\n",
       "      <td>4</td>\n",
       "      <td>73</td>\n",
       "      <td>22</td>\n",
       "      <td>68</td>\n",
       "      <td>59</td>\n",
       "      <td>92</td>\n",
       "      <td>20</td>\n",
       "      <td>97</td>\n",
       "      <td>38</td>\n",
       "      <td>1</td>\n",
       "    </tr>\n",
       "    <tr>\n",
       "      <th>7</th>\n",
       "      <td>64</td>\n",
       "      <td>28</td>\n",
       "      <td>18</td>\n",
       "      <td>78</td>\n",
       "      <td>84</td>\n",
       "      <td>35</td>\n",
       "      <td>29</td>\n",
       "      <td>40</td>\n",
       "      <td>62</td>\n",
       "      <td>28</td>\n",
       "    </tr>\n",
       "  </tbody>\n",
       "</table>\n",
       "</div>"
      ],
      "text/plain": [
       "    0   1   2   3   4   5   6   7   8   9\n",
       "0  29  24  81  11   5  15   1  37  59  76\n",
       "1  61  56  43   6  40  31  31  59  18  18\n",
       "2  96  49  21  65  38  13  84  15  58  48\n",
       "3  40  45  43  48   3  68  62  64  43   2\n",
       "4  48  59  84  52  75  39   6  66  84  82\n",
       "5  36  51  82  91  51  58  24  74  81  45\n",
       "6   4  73  22  68  59  92  20  97  38   1\n",
       "7  64  28  18  78  84  35  29  40  62  28"
      ]
     },
     "execution_count": 196,
     "metadata": {},
     "output_type": "execute_result"
    }
   ],
   "source": [
    "df"
   ]
  },
  {
   "cell_type": "code",
   "execution_count": 198,
   "metadata": {},
   "outputs": [
    {
     "data": {
      "text/html": [
       "<div>\n",
       "<style scoped>\n",
       "    .dataframe tbody tr th:only-of-type {\n",
       "        vertical-align: middle;\n",
       "    }\n",
       "\n",
       "    .dataframe tbody tr th {\n",
       "        vertical-align: top;\n",
       "    }\n",
       "\n",
       "    .dataframe thead th {\n",
       "        text-align: right;\n",
       "    }\n",
       "</style>\n",
       "<table border=\"1\" class=\"dataframe\">\n",
       "  <thead>\n",
       "    <tr style=\"text-align: right;\">\n",
       "      <th></th>\n",
       "      <th>0</th>\n",
       "      <th>1</th>\n",
       "      <th>2</th>\n",
       "      <th>3</th>\n",
       "      <th>4</th>\n",
       "      <th>5</th>\n",
       "      <th>6</th>\n",
       "      <th>7</th>\n",
       "      <th>8</th>\n",
       "      <th>9</th>\n",
       "    </tr>\n",
       "  </thead>\n",
       "  <tbody>\n",
       "    <tr>\n",
       "      <th>0</th>\n",
       "      <td>-0.67</td>\n",
       "      <td>-1.50</td>\n",
       "      <td>1.10</td>\n",
       "      <td>-1.36</td>\n",
       "      <td>-1.34</td>\n",
       "      <td>-1.06</td>\n",
       "      <td>-1.11</td>\n",
       "      <td>-0.77</td>\n",
       "      <td>0.16</td>\n",
       "      <td>1.25</td>\n",
       "    </tr>\n",
       "    <tr>\n",
       "      <th>1</th>\n",
       "      <td>0.50</td>\n",
       "      <td>0.49</td>\n",
       "      <td>-0.22</td>\n",
       "      <td>-1.53</td>\n",
       "      <td>-0.15</td>\n",
       "      <td>-0.47</td>\n",
       "      <td>-0.04</td>\n",
       "      <td>0.10</td>\n",
       "      <td>-1.70</td>\n",
       "      <td>-0.63</td>\n",
       "    </tr>\n",
       "    <tr>\n",
       "      <th>2</th>\n",
       "      <td>1.78</td>\n",
       "      <td>0.05</td>\n",
       "      <td>-0.97</td>\n",
       "      <td>0.42</td>\n",
       "      <td>-0.22</td>\n",
       "      <td>-1.14</td>\n",
       "      <td>1.86</td>\n",
       "      <td>-1.64</td>\n",
       "      <td>0.12</td>\n",
       "      <td>0.34</td>\n",
       "    </tr>\n",
       "    <tr>\n",
       "      <th>3</th>\n",
       "      <td>-0.27</td>\n",
       "      <td>-0.19</td>\n",
       "      <td>-0.22</td>\n",
       "      <td>-0.14</td>\n",
       "      <td>-1.40</td>\n",
       "      <td>0.89</td>\n",
       "      <td>1.07</td>\n",
       "      <td>0.30</td>\n",
       "      <td>-0.56</td>\n",
       "      <td>-1.15</td>\n",
       "    </tr>\n",
       "    <tr>\n",
       "      <th>4</th>\n",
       "      <td>0.03</td>\n",
       "      <td>0.68</td>\n",
       "      <td>1.20</td>\n",
       "      <td>-0.01</td>\n",
       "      <td>1.04</td>\n",
       "      <td>-0.18</td>\n",
       "      <td>-0.94</td>\n",
       "      <td>0.38</td>\n",
       "      <td>1.30</td>\n",
       "      <td>1.44</td>\n",
       "    </tr>\n",
       "    <tr>\n",
       "      <th>5</th>\n",
       "      <td>-0.41</td>\n",
       "      <td>0.18</td>\n",
       "      <td>1.13</td>\n",
       "      <td>1.27</td>\n",
       "      <td>0.22</td>\n",
       "      <td>0.52</td>\n",
       "      <td>-0.29</td>\n",
       "      <td>0.69</td>\n",
       "      <td>1.16</td>\n",
       "      <td>0.24</td>\n",
       "    </tr>\n",
       "    <tr>\n",
       "      <th>6</th>\n",
       "      <td>-1.58</td>\n",
       "      <td>1.55</td>\n",
       "      <td>-0.94</td>\n",
       "      <td>0.52</td>\n",
       "      <td>0.50</td>\n",
       "      <td>1.77</td>\n",
       "      <td>-0.43</td>\n",
       "      <td>1.60</td>\n",
       "      <td>-0.79</td>\n",
       "      <td>-1.18</td>\n",
       "    </tr>\n",
       "    <tr>\n",
       "      <th>7</th>\n",
       "      <td>0.61</td>\n",
       "      <td>-1.25</td>\n",
       "      <td>-1.08</td>\n",
       "      <td>0.85</td>\n",
       "      <td>1.34</td>\n",
       "      <td>-0.33</td>\n",
       "      <td>-0.11</td>\n",
       "      <td>-0.65</td>\n",
       "      <td>0.30</td>\n",
       "      <td>-0.31</td>\n",
       "    </tr>\n",
       "  </tbody>\n",
       "</table>\n",
       "</div>"
      ],
      "text/plain": [
       "      0     1     2     3     4     5     6     7     8     9\n",
       "0 -0.67 -1.50  1.10 -1.36 -1.34 -1.06 -1.11 -0.77  0.16  1.25\n",
       "1  0.50  0.49 -0.22 -1.53 -0.15 -0.47 -0.04  0.10 -1.70 -0.63\n",
       "2  1.78  0.05 -0.97  0.42 -0.22 -1.14  1.86 -1.64  0.12  0.34\n",
       "3 -0.27 -0.19 -0.22 -0.14 -1.40  0.89  1.07  0.30 -0.56 -1.15\n",
       "4  0.03  0.68  1.20 -0.01  1.04 -0.18 -0.94  0.38  1.30  1.44\n",
       "5 -0.41  0.18  1.13  1.27  0.22  0.52 -0.29  0.69  1.16  0.24\n",
       "6 -1.58  1.55 -0.94  0.52  0.50  1.77 -0.43  1.60 -0.79 -1.18\n",
       "7  0.61 -1.25 -1.08  0.85  1.34 -0.33 -0.11 -0.65  0.30 -0.31"
      ]
     },
     "execution_count": 198,
     "metadata": {},
     "output_type": "execute_result"
    }
   ],
   "source": [
    "df_out = df.copy()\n",
    "for eachCol in df.columns:\n",
    "    col_mean = df[eachCol].mean()\n",
    "    col_std = df[eachCol].std()\n",
    "    df_out[eachCol] = df[eachCol].apply(lambda x : np.round((x - col_mean)/col_std, 2) )\n",
    "    #print (df[eachCol].mean(), df[eachCol].std())\n",
    "df_out"
   ]
  },
  {
   "cell_type": "code",
   "execution_count": 203,
   "metadata": {},
   "outputs": [
    {
     "name": "stdout",
     "output_type": "stream",
     "text": [
      "      0     1     2     3     4     5     6     7     8     9\n",
      "0 -0.67 -1.50  1.10 -1.36 -1.34 -1.06 -1.11 -0.77  0.16  1.25\n",
      "1  0.50  0.49 -0.22 -1.53 -0.15 -0.47 -0.04  0.10 -1.70 -0.63\n",
      "2  1.78  0.05 -0.97  0.42 -0.22 -1.14  1.86 -1.64  0.12  0.34\n",
      "3 -0.27 -0.19 -0.22 -0.14 -1.40  0.89  1.07  0.30 -0.56 -1.15\n",
      "4  0.03  0.68  1.20 -0.01  1.04 -0.18 -0.94  0.38  1.30  1.44\n",
      "5 -0.41  0.18  1.13  1.27  0.22  0.52 -0.29  0.69  1.16  0.24\n",
      "6 -1.58  1.55 -0.94  0.52  0.50  1.77 -0.43  1.60 -0.79 -1.18\n",
      "7  0.61 -1.25 -1.08  0.85  1.34 -0.33 -0.11 -0.65  0.30 -0.31\n"
     ]
    }
   ],
   "source": [
    "out1 = df.apply(lambda x: ((x - x.mean())/x.std()).round(2))\n",
    "print(out1)"
   ]
  },
  {
   "cell_type": "code",
   "execution_count": 204,
   "metadata": {},
   "outputs": [],
   "source": [
    "# Convert all values of a dataframe into percentages\n",
    "\n",
    "df = pd.DataFrame(np.random.random(4), columns=['random'])"
   ]
  },
  {
   "cell_type": "markdown",
   "metadata": {},
   "source": [
    "<span style=\"color:purple;font-size:20px ; font-weight:bold\">Question 8 <span>\n",
    "* Convert all data elements in dataframe to a percent with sign"
   ]
  },
  {
   "cell_type": "code",
   "execution_count": 211,
   "metadata": {},
   "outputs": [
    {
     "data": {
      "text/html": [
       "<div>\n",
       "<style scoped>\n",
       "    .dataframe tbody tr th:only-of-type {\n",
       "        vertical-align: middle;\n",
       "    }\n",
       "\n",
       "    .dataframe tbody tr th {\n",
       "        vertical-align: top;\n",
       "    }\n",
       "\n",
       "    .dataframe thead th {\n",
       "        text-align: right;\n",
       "    }\n",
       "</style>\n",
       "<table border=\"1\" class=\"dataframe\">\n",
       "  <thead>\n",
       "    <tr style=\"text-align: right;\">\n",
       "      <th></th>\n",
       "      <th>random</th>\n",
       "    </tr>\n",
       "  </thead>\n",
       "  <tbody>\n",
       "    <tr>\n",
       "      <th>0</th>\n",
       "      <td>10.46%</td>\n",
       "    </tr>\n",
       "    <tr>\n",
       "      <th>1</th>\n",
       "      <td>12.2%</td>\n",
       "    </tr>\n",
       "    <tr>\n",
       "      <th>2</th>\n",
       "      <td>85.75%</td>\n",
       "    </tr>\n",
       "    <tr>\n",
       "      <th>3</th>\n",
       "      <td>6.71%</td>\n",
       "    </tr>\n",
       "  </tbody>\n",
       "</table>\n",
       "</div>"
      ],
      "text/plain": [
       "   random\n",
       "0  10.46%\n",
       "1   12.2%\n",
       "2  85.75%\n",
       "3   6.71%"
      ]
     },
     "execution_count": 211,
     "metadata": {},
     "output_type": "execute_result"
    }
   ],
   "source": [
    "df.applymap(lambda x: np.str(np.round(x*100, 2)) + '%')"
   ]
  },
  {
   "cell_type": "markdown",
   "metadata": {},
   "source": [
    "<span style=\"color:purple;font-size:20px ; font-weight:bold\">Question 9 <span>\n",
    "* Swap two rows in a dataframe\n",
    "    * Swap rows 1 and 2 in df."
   ]
  },
  {
   "cell_type": "code",
   "execution_count": 236,
   "metadata": {},
   "outputs": [
    {
     "data": {
      "text/html": [
       "<div>\n",
       "<style scoped>\n",
       "    .dataframe tbody tr th:only-of-type {\n",
       "        vertical-align: middle;\n",
       "    }\n",
       "\n",
       "    .dataframe tbody tr th {\n",
       "        vertical-align: top;\n",
       "    }\n",
       "\n",
       "    .dataframe thead th {\n",
       "        text-align: right;\n",
       "    }\n",
       "</style>\n",
       "<table border=\"1\" class=\"dataframe\">\n",
       "  <thead>\n",
       "    <tr style=\"text-align: right;\">\n",
       "      <th></th>\n",
       "      <th>0</th>\n",
       "      <th>1</th>\n",
       "      <th>2</th>\n",
       "      <th>3</th>\n",
       "      <th>4</th>\n",
       "    </tr>\n",
       "  </thead>\n",
       "  <tbody>\n",
       "    <tr>\n",
       "      <th>0</th>\n",
       "      <td>0</td>\n",
       "      <td>1</td>\n",
       "      <td>2</td>\n",
       "      <td>3</td>\n",
       "      <td>4</td>\n",
       "    </tr>\n",
       "    <tr>\n",
       "      <th>1</th>\n",
       "      <td>5</td>\n",
       "      <td>6</td>\n",
       "      <td>7</td>\n",
       "      <td>8</td>\n",
       "      <td>9</td>\n",
       "    </tr>\n",
       "    <tr>\n",
       "      <th>2</th>\n",
       "      <td>10</td>\n",
       "      <td>11</td>\n",
       "      <td>12</td>\n",
       "      <td>13</td>\n",
       "      <td>14</td>\n",
       "    </tr>\n",
       "    <tr>\n",
       "      <th>3</th>\n",
       "      <td>15</td>\n",
       "      <td>16</td>\n",
       "      <td>17</td>\n",
       "      <td>18</td>\n",
       "      <td>19</td>\n",
       "    </tr>\n",
       "    <tr>\n",
       "      <th>4</th>\n",
       "      <td>20</td>\n",
       "      <td>21</td>\n",
       "      <td>22</td>\n",
       "      <td>23</td>\n",
       "      <td>24</td>\n",
       "    </tr>\n",
       "  </tbody>\n",
       "</table>\n",
       "</div>"
      ],
      "text/plain": [
       "    0   1   2   3   4\n",
       "0   0   1   2   3   4\n",
       "1   5   6   7   8   9\n",
       "2  10  11  12  13  14\n",
       "3  15  16  17  18  19\n",
       "4  20  21  22  23  24"
      ]
     },
     "execution_count": 236,
     "metadata": {},
     "output_type": "execute_result"
    }
   ],
   "source": [
    "df = pd.DataFrame(np.arange(25).reshape(5, -1))\n",
    "#print(df.loc[0],df.loc[1] )\n",
    "df"
   ]
  },
  {
   "cell_type": "code",
   "execution_count": 237,
   "metadata": {},
   "outputs": [
    {
     "name": "stdout",
     "output_type": "stream",
     "text": [
      "    0   1   2   3   4\n",
      "0   5   6   7   8   9\n",
      "1   0   1   2   3   4\n",
      "2  10  11  12  13  14\n",
      "3  15  16  17  18  19\n",
      "4  20  21  22  23  24\n"
     ]
    }
   ],
   "source": [
    "#NOTE !!! The copy\n",
    "save_series = df.loc[0].copy()\n",
    "df.loc[0] = df.loc[1]\n",
    "df.loc[1] = save_series\n",
    "print(df)\n"
   ]
  },
  {
   "cell_type": "markdown",
   "metadata": {},
   "source": [
    "<span style=\"color:purple;font-size:20px ; font-weight:bold\">Question 10 <span>\n",
    "* Reverse the rows of a dataframe"
   ]
  },
  {
   "cell_type": "code",
   "execution_count": 257,
   "metadata": {},
   "outputs": [
    {
     "name": "stdout",
     "output_type": "stream",
     "text": [
      "    0   1   2   3   4   5\n",
      "0   0   1   2   3   4   5\n",
      "1   6   7   8   9  10  11\n",
      "2  12  13  14  15  16  17\n",
      "3  18  19  20  21  22  23\n",
      "4  24  25  26  27  28  29\n",
      "5  30  31  32  33  34  35\n"
     ]
    }
   ],
   "source": [
    "df = pd.DataFrame(np.arange(36).reshape(6, -1))\n",
    "print(df)"
   ]
  },
  {
   "cell_type": "code",
   "execution_count": 258,
   "metadata": {
    "scrolled": true
   },
   "outputs": [
    {
     "name": "stdout",
     "output_type": "stream",
     "text": [
      "    0   1   2   3   4   5\n",
      "0  30  31  32  33  34  35\n",
      "1  24  25  26  27  28  29\n",
      "2  18  19  20  21  22  23\n",
      "3  12  13  14  15  16  17\n",
      "4   6   7   8   9  10  11\n",
      "5   0   1   2   3   4   5\n"
     ]
    }
   ],
   "source": [
    "for i in range(len(df.index)//2):\n",
    "    save_series = df.loc[i].copy()\n",
    "    other_i = len(df.index) - (i+1)\n",
    "    df.loc[i] = df.loc[other_i].copy()\n",
    "    df.loc[other_i] = save_series  \n",
    "print(df)"
   ]
  }
 ],
 "metadata": {
  "kernelspec": {
   "display_name": "py_venv",
   "language": "python",
   "name": "py_venv"
  },
  "language_info": {
   "codemirror_mode": {
    "name": "ipython",
    "version": 3
   },
   "file_extension": ".py",
   "mimetype": "text/x-python",
   "name": "python",
   "nbconvert_exporter": "python",
   "pygments_lexer": "ipython3",
   "version": "3.7.7"
  }
 },
 "nbformat": 4,
 "nbformat_minor": 4
}
